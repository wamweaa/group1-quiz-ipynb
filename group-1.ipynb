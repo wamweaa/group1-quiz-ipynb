{
 "cells": [
  {
   "cell_type": "code",
   "execution_count": 8,
   "metadata": {},
   "outputs": [
    {
     "name": "stdout",
     "output_type": "stream",
     "text": [
      "{'A': 1, 'B': 1, 'C': 1, 'D': 1, 'F': 1}\n"
     ]
    }
   ],
   "source": [
    "def classify_grades(scores):\n",
    "    grade_counts = {\"A\": 0, \"B\": 0, \"C\": 0, \"D\": 0, \"F\": 0}\n",
    "    \n",
    "    for score in scores:\n",
    "        if 90 <= score <= 100:\n",
    "            grade_counts[\"A\"] += 1\n",
    "        elif 80 <= score < 90:\n",
    "            grade_counts[\"B\"] += 1\n",
    "        elif 70 <= score < 80:\n",
    "            grade_counts[\"C\"] += 1\n",
    "        elif 60 <= score < 70:\n",
    "            grade_counts[\"D\"] += 1\n",
    "        elif score < 60:\n",
    "            grade_counts[\"F\"] += 1\n",
    "            \n",
    "    return grade_counts\n",
    "\n",
    "# Example usage:\n",
    "print(classify_grades([85, 92, 45, 74, 60]))  # Output: {\"A\":1, \"B\":1, \"C\":1, \"D\":1, \"F\":1}\":1, \"F\":1}\n"
   ]
  },
  {
   "cell_type": "code",
   "execution_count": 11,
   "metadata": {},
   "outputs": [
    {
     "name": "stdout",
     "output_type": "stream",
     "text": [
      "1 \n",
      "2 4 \n",
      "3 6 9 \n",
      "4 8 12 16 \n"
     ]
    }
   ],
   "source": [
    "def print_nested_pattern():\n",
    "    for i in range(1, 5):  # 1 to 4\n",
    "        for j in range(1, i + 1):\n",
    "            print(i * j, end=' ')\n",
    "        print()  # New line after each row\n",
    "\n",
    "# Example usage:\n",
    "print_nested_pattern()\n",
    "# Output:\n",
    "# 1\n",
    "# 2 4\n",
    "# 3 6 9\n",
    "# 4 8 12 16\n"
   ]
  },
  {
   "cell_type": "code",
   "execution_count": 9,
   "metadata": {},
   "outputs": [
    {
     "name": "stdout",
     "output_type": "stream",
     "text": [
      "True\n",
      "False\n"
     ]
    }
   ],
   "source": [
    "import re\n",
    "\n",
    "def validate_password(password):\n",
    "    if len(password) >= 8 and \\\n",
    "       re.search(r'[A-Z]', password) and \\\n",
    "       re.search(r'[0-9]', password) and \\\n",
    "       re.search(r'[!@#$%^&*]', password):\n",
    "        return True\n",
    "    else:\n",
    "        return False\n",
    "\n",
    "# Test cases\n",
    "print(validate_password(\"Passw0rd!\"))  # True\n",
    "print(validate_password(\"password\"))   # False\n"
   ]
  },
  {
   "cell_type": "code",
   "execution_count": 12,
   "metadata": {},
   "outputs": [
    {
     "name": "stdout",
     "output_type": "stream",
     "text": [
      "True\n",
      "False\n"
     ]
    }
   ],
   "source": [
    "def is_palindrome(word):\n",
    "    cleaned_word = ''.join(c.lower() for c in word if c.isalnum())  # Remove spaces and make lowercase\n",
    "    return cleaned_word == cleaned_word[::-1]\n",
    "\n",
    "# Example usage:\n",
    "print(is_palindrome(\"RaceCar\"))  # Output: True\n",
    "print(is_palindrome(\"hello\"))     # Output: False"
   ]
  }
 ],
 "metadata": {
  "kernelspec": {
   "display_name": "Python 3",
   "language": "python",
   "name": "python3"
  },
  "language_info": {
   "codemirror_mode": {
    "name": "ipython",
    "version": 3
   },
   "file_extension": ".py",
   "mimetype": "text/x-python",
   "name": "python",
   "nbconvert_exporter": "python",
   "pygments_lexer": "ipython3",
   "version": "3.13.2"
  }
 },
 "nbformat": 4,
 "nbformat_minor": 2
}
